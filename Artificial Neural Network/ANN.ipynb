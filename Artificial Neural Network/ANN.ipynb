{
 "cells": [
  {
   "cell_type": "code",
   "execution_count": 1,
   "metadata": {},
   "outputs": [],
   "source": [
    "import numpy as np\n",
    "import matplotlib\n",
    "import math as math\n",
    "import pandas as pd\n",
    "import matplotlib.pyplot as plt\n",
    "import warnings\n",
    "warnings.filterwarnings(module='sklearn*', action='ignore', category=DeprecationWarning)\n",
    "warnings.filterwarnings(\"ignore\", category=DeprecationWarning) "
   ]
  },
  {
   "cell_type": "code",
   "execution_count": 2,
   "metadata": {},
   "outputs": [],
   "source": [
    "x_train1= pd.read_csv(\"Train_Dataset1.csv\")  \n",
    "x_test1=pd.read_csv(\"Test_Dataset1.csv\")\n",
    "x_train2=pd.read_csv(\"Train_Dataset2.csv\")\n",
    "x_test2=pd.read_csv(\"Test_Dataset2.csv\")\n",
    "x_train1=x_train1[1:]\n",
    "x_test1=x_test1[1:]\n",
    "x_train2=x_train2[1:]\n",
    "x_test2=x_test2[1:]\n",
    "\n",
    "x_train1=np.array(x_train1)\n",
    "x_test1=np.array(x_test1)\n",
    "\n",
    "x_train2=np.array(x_train2)\n",
    "x_test2=np.array(x_test2)"
   ]
  },
  {
   "cell_type": "code",
   "execution_count": 3,
   "metadata": {},
   "outputs": [
    {
     "data": {
      "image/png": "[encoded data removed]",
      "text/plain": [
       "<Figure size 432x288 with 1 Axes>"
      ]
     },
     "metadata": {},
     "output_type": "display_data"
    }
   ],
   "source": [
    "fig, (ax1) = plt.subplots()\n",
    "ax1.set_title('Training Dataset1')\n",
    "scatter = ax1.scatter(x_train1[:, 0],  x_train1[:, 1])\n"
   ]
  },
  {
   "cell_type": "code",
   "execution_count": 4,
   "metadata": {},
   "outputs": [
    {
     "name": "stderr",
     "output_type": "stream",
     "text": [
      "C:\\ProgramData\\Anaconda3\\lib\\site-packages\\ipykernel_launcher.py:4: UserWarning: Matplotlib is currently using module://ipykernel.pylab.backend_inline, which is a non-GUI backend, so cannot show the figure.\n",
      "  after removing the cwd from sys.path.\n"
     ]
    },
    {
     "data": {
      "image/png": "[encoded data removed]",
      "text/plain": [
       "<Figure size 432x288 with 1 Axes>"
      ]
     },
     "metadata": {},
     "output_type": "display_data"
    }
   ],
   "source": [
    "fig, (ax2) = plt.subplots()\n",
    "ax2.set_title('Training Dataset2')\n",
    "scatter = ax2.scatter(x_train2[:, 0],  x_train2[:, 1])\n",
    "fig.show()\n"
   ]
  },
  {
   "cell_type": "code",
   "execution_count": 5,
   "metadata": {
    "scrolled": true
   },
   "outputs": [],
   "source": [
    "import numpy as np\n",
    "import matplotlib\n",
    "import pandas as pd\n",
    "import matplotlib.pyplot as plt\n",
    "import numpy as np\n",
    "np.random.seed(0)\n",
    "class ANN:\n",
    "    def __init__(self):\n",
    "        \n",
    "        weights=np.random.rand(4)\n",
    "        bias=np.random.rand(4)\n",
    "        self.w1_n1=weights[0]\n",
    "        self.w2_n2=weights[1]\n",
    "        self.w3_op=weights[2]\n",
    "        self.w4_op=weights[2]\n",
    "\n",
    "        # Biases\n",
    "        self.b_n1=bias[0]\n",
    "        self.b_n2=bias[1]\n",
    "        self.b_y_hat=bias[2]\n",
    "        \n",
    "        self.Learning_Rate=.05\n",
    "        self.mse=9999\n",
    "       \n",
    "    def feedforward(self,f1,f2):\n",
    "        #hidden layer\n",
    "        self.n1    = self.sigmoid(f1*self.w1_n1+ self.b_n1)\n",
    "        self.n2    = self.sigmoid(f1*self.w2_n2+self.b_n2)\n",
    "        #final output\n",
    "        self.y_hat =self.n1*self.w3_op + self.n2*self.w4_op  + self.b_y_hat\n",
    "      \n",
    "       \n",
    "        \n",
    "    def backpropagation(self, f1,f2, y):\n",
    "        \n",
    "        \n",
    "        y_hat_der = (-2 * (y-self.y_hat) * self.sigmoid_der(self.n1*self.w3_op + self.n2*self.w4_op + self.b_y_hat))\n",
    "        \n",
    "        n1_der =  self.sigmoid_der(f1*self.w1_n1 + self.b_n1)\n",
    "        n2_der =  self.sigmoid_der(f1*self.w2_n2+ self.b_n2)\n",
    "        # Update Biases\n",
    "        self.b_n1    -= self.lr * y_hat_der * n1_der\n",
    "        self.b_n2    -= self.lr * y_hat_der * n2_der\n",
    "        self.b_y_hat -= self.lr * y_hat_der\n",
    "\n",
    "        # Update Weights\n",
    "        \n",
    "        self.w1_n1 -= self.lr * y_hat_der * n1_der * f1\n",
    "        self.w2_n2 -= self.lr * y_hat_der * n2_der * f1\n",
    "        \n",
    "        self.w3_op -= self.lr * y_hat_der * self.n1\n",
    "        self.w4_op -= self.lr * y_hat_der * self.n2\n",
    "        \n",
    "        \n",
    "        \n",
    "    def sigmoid(self,inputs):\n",
    "        return 1 / (1 + np.exp(-inputs))\n",
    "        \n",
    "    def  sigmoid_der(self,output):\n",
    "        \n",
    "        return self.sigmoid(output) * (1.0 - self.sigmoid(output))\n",
    "    \n",
    "    def tanh(self,inputs):\n",
    "        return np.tanh(inputs)\n",
    "        \n",
    "    def  tanh_der(self,output):\n",
    "        \n",
    "        return (1.0 - self.sigmoid(output)**2)\n",
    "    def Loss(self,output,y):\n",
    "        return np.square(np.subtract(output,y)).mean()\n",
    "    \n",
    "    def TransformFeatures(self,input):\n",
    "        self.f1=input\n",
    "        self.f2=np.square(input)\n",
    "        \n",
    "      \n",
    "    \n",
    "    def FitModel(self,X, y,  itr=10000, lr=0.1):\n",
    "        self.TransformFeatures(X)\n",
    "        mse_list = []\n",
    "        self.lr = lr\n",
    "        mse=99999\n",
    "        i=0\n",
    "        print('ANN: Begin Training')\n",
    "        while i<itr and mse>0.0001:\n",
    "            mse = self.Loss(y, self.predict(X))\n",
    "            mse_list.append(mse)\n",
    "                 \n",
    "            f1=self.f1\n",
    "            f2=self.f2\n",
    "            i+=1\n",
    "            # Loop to go over each training example for current epoch\n",
    "            for j in range(len(f1)):\n",
    "                self.feedforward(f1[j],f2[j])\n",
    "                self.backpropagation(f1[j],f2[j], y[j])  \n",
    "        print('MSE: ',end=\" \")\n",
    "        print(mse)\n",
    "           \n",
    "        print('ANN: End Training')\n",
    "        return mse_list\n",
    "    \n",
    "    \n",
    "    \n",
    "    \n",
    "            \n",
    "    def predict(self, X):\n",
    "        self.TransformFeatures(X)\n",
    "        result = []\n",
    "        f1=self.f1\n",
    "        f2=self.f2\n",
    "        \n",
    "        self.feedforward(f1,f2)\n",
    "        \n",
    "        #result.append(self.y_hat)\n",
    "        \n",
    "        return self.y_hat\n",
    "            \n",
    "                   \n",
    "            \n"
   ]
  },
  {
   "cell_type": "code",
   "execution_count": 6,
   "metadata": {},
   "outputs": [
    {
     "name": "stdout",
     "output_type": "stream",
     "text": [
      "ANN: Begin Training\n",
      "MSE:  0.00037985229886428864\n",
      "ANN: End Training\n"
     ]
    }
   ],
   "source": [
    "ann=ANN()\n",
    "ann.FitModel(x_train1[:, 0],  x_train1[:, 1])\n",
    "trainresult1=ann.predict(x_train1[:, 0])\n",
    "\n"
   ]
  },
  {
   "cell_type": "code",
   "execution_count": 7,
   "metadata": {},
   "outputs": [
    {
     "name": "stderr",
     "output_type": "stream",
     "text": [
      "C:\\ProgramData\\Anaconda3\\lib\\site-packages\\ipykernel_launcher.py:13: UserWarning: Matplotlib is currently using module://ipykernel.pylab.backend_inline, which is a non-GUI backend, so cannot show the figure.\n",
      "  del sys.path[0]\n"
     ]
    },
    {
     "data": {
      "image/png": "[encoded data removed]",
      "text/plain": [
       "<Figure size 432x288 with 1 Axes>"
      ]
     },
     "metadata": {},
     "output_type": "display_data"
    }
   ],
   "source": [
    "\n",
    "result1=ann.predict(x_test1[:, 0])\n",
    "\n",
    "\n",
    "fig, ax1 = plt.subplots()\n",
    "ax1.set_title('Test Dataset1')\n",
    "scatter = ax1.scatter(x_test1[:, 0],  x_test1[:, 1],label='Actual')\n",
    "\n",
    "scatter2 = ax1.scatter(x_test1[:, 0], result1,label='Prediction')\n",
    "\n",
    "ax1.legend()\n",
    "\n",
    "fig.show()\n"
   ]
  },
  {
   "cell_type": "code",
   "execution_count": 8,
   "metadata": {},
   "outputs": [
    {
     "name": "stdout",
     "output_type": "stream",
     "text": [
      "ANN: Begin Training\n",
      "MSE:  0.05111502125354465\n",
      "ANN: End Training\n"
     ]
    }
   ],
   "source": [
    "\n",
    "ann.FitModel(x_train2[:, 0],  x_train2[:, 1])\n",
    "trainresult2=ann.predict(x_train2[:, 0])\n",
    "\n"
   ]
  },
  {
   "cell_type": "code",
   "execution_count": 9,
   "metadata": {},
   "outputs": [
    {
     "name": "stderr",
     "output_type": "stream",
     "text": [
      "C:\\ProgramData\\Anaconda3\\lib\\site-packages\\ipykernel_launcher.py:13: UserWarning: Matplotlib is currently using module://ipykernel.pylab.backend_inline, which is a non-GUI backend, so cannot show the figure.\n",
      "  del sys.path[0]\n"
     ]
    },
    {
     "data": {
      "image/png": "[encoded data removed]",
      "text/plain": [
       "<Figure size 432x288 with 1 Axes>"
      ]
     },
     "metadata": {},
     "output_type": "display_data"
    }
   ],
   "source": [
    "\n",
    "result2=ann.predict(x_test2[:, 0])\n",
    "\n",
    "\n",
    "fig, ax1 = plt.subplots()\n",
    "ax1.set_title('Test Dataset2')\n",
    "scatter = ax1.scatter(x_test2[:, 0],  x_test2[:, 1],label='Actual')\n",
    "\n",
    "scatter2 = ax1.scatter(x_test2[:, 0], result2,label='Prediction')\n",
    "\n",
    "\n",
    "ax1.legend()\n",
    "fig.show()\n"
   ]
  },
  {
   "cell_type": "code",
   "execution_count": 10,
   "metadata": {},
   "outputs": [],
   "source": [
    "def MSELoss(ip,output):\n",
    "    return np.square(np.subtract(ip,output)).mean()"
   ]
  },
  {
   "cell_type": "code",
   "execution_count": 11,
   "metadata": {},
   "outputs": [
    {
     "name": "stdout",
     "output_type": "stream",
     "text": [
      "Dataset 1\n",
      "Train loss 0.0003798269001553662\n",
      "Test loss 0.00038354762337958475\n"
     ]
    }
   ],
   "source": [
    "print('Dataset 1')\n",
    "trainLoss1=MSELoss(trainresult1,x_train1[:, 1])\n",
    "testLoss1=MSELoss(result1,x_test1[:, 1])\n",
    "print('Train loss ',end=\"\")\n",
    "print(trainLoss1)\n",
    "print('Test loss ',end=\"\")\n",
    "print(testLoss1)"
   ]
  },
  {
   "cell_type": "code",
   "execution_count": 12,
   "metadata": {},
   "outputs": [
    {
     "name": "stdout",
     "output_type": "stream",
     "text": [
      "Dataset 2\n",
      "Train loss 0.05111478138026337\n",
      "Test loss 0.004729194989461161\n"
     ]
    }
   ],
   "source": [
    "result2=ann.predict(x_test2[:, 0])\n",
    "testloss2=MSELoss(result2,x_test2[:, 1])\n",
    "trainLoss2=MSELoss(trainresult2,x_train2[:, 1])\n",
    "print('Dataset 2')\n",
    "print('Train loss ',end=\"\")\n",
    "print(trainLoss2)\n",
    "print('Test loss ',end=\"\")\n",
    "print(testloss2)"
   ]
  },
  {
   "cell_type": "code",
   "execution_count": null,
   "metadata": {},
   "outputs": [],
   "source": []
  }
 ],
 "metadata": {
  "kernelspec": {
   "display_name": "Python 3",
   "language": "python",
   "name": "python3"
  },
  "language_info": {
   "codemirror_mode": {
    "name": "ipython",
    "version": 3
   },
   "file_extension": ".py",
   "mimetype": "text/x-python",
   "name": "python",
   "nbconvert_exporter": "python",
   "pygments_lexer": "ipython3",
   "version": "3.6.5"
  }
 },
 "nbformat": 4,
 "nbformat_minor": 5
}
