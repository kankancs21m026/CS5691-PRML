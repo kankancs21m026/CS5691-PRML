{
 "cells": [
  {
   "cell_type": "markdown",
   "metadata": {},
   "source": [
    "Assignment 1\n",
    "2 You will implement classification algorithms that you have seen in class as\n",
    "part of this question. You will be provided train and test data as before, of which you are only\n",
    "supposed to use the train data to come up with a classifier which you will use to just make\n",
    "predictions on the test data. For each sub-question below, plot the test data along with your\n",
    "classification boundary and report confusion matrices on both train and test data. Again, your\n",
    "code should generate a .csv file with your predictions on the test data as before.\n"
   ]
  },
  {
   "cell_type": "markdown",
   "metadata": {},
   "source": [
    "(a)  Implement the Preceptron learning algorithm with starting weights as w =[0,0,1]T for x = [1,x,y]T and with a margin of 1"
   ]
  },
  {
   "cell_type": "code",
   "execution_count": 11,
   "metadata": {},
   "outputs": [],
   "source": [
    "######################################################\n",
    "#PRML Assignment 1\n",
    "#Question 2\n",
    "######################################################\n",
    "import pandas as pd\n",
    "import numpy as np\n",
    "import matplotlib.pyplot as plt\n",
    "import csv\n",
    "import time"
   ]
  },
  {
   "cell_type": "markdown",
   "metadata": {},
   "source": [
    "Generate CSV to store all results of our predictions"
   ]
  },
  {
   "cell_type": "code",
   "execution_count": 12,
   "metadata": {},
   "outputs": [],
   "source": [
    "\n",
    "def GenerateCSV(x,y,label,filename):\n",
    "    header = ['x', 'y', 'Label']\n",
    "    itr=0\n",
    "  \n",
    "    with open('CSV\\\\'+filename+'Results_'+time.strftime(\"%Y%m%d-%H%M%S\")+'.csv', 'w', encoding='UTF8') as f:\n",
    "        writer = csv.writer(f)\n",
    "        # write the header\n",
    "        writer.writerow(header)\n",
    "        # write the data\n",
    "        for i in x:\n",
    "            writer.writerow([x[itr], y[itr], label[itr]])\n",
    "            itr=itr+1\n",
    "\n",
    "def ConvertDataToMatrix(x_data,y_data):\n",
    "    size=x_data.shape[0]\n",
    "    x=np.ones((size,1))\n",
    "    x1=np.array(x_data)\n",
    "    x2=np.array(y_data)\n",
    "    x= np.concatenate((x,np.reshape(x2,(x2.shape[0],1))),axis=0)\n",
    "    x= np.concatenate((x,np.reshape(x2,(x2.shape[0],1))),axis=1)    \n",
    "    return x\n"
   ]
  },
  {
   "cell_type": "markdown",
   "metadata": {},
   "source": [
    "Following Functions defined to perform prediction based on a input data"
   ]
  },
  {
   "cell_type": "code",
   "execution_count": 13,
   "metadata": {},
   "outputs": [],
   "source": [
    "\n",
    "    \n",
    "def GenerateSeparator(w,x,y):\n",
    "    x_matrix=ConvertDataToMatrix(x,y)\n",
    "    result= np.array(np.dot(w,x_matrix.T).T)\n",
    "    return result\n",
    "\n",
    "def PerformPredictionTestData(w,x,y,colourP,colourN,title):\n",
    " \n",
    "    w=np.array(w)\n",
    "    label=w[0][2]*y+w[0][1]*x+w[0][0]\n",
    "    outputLabel = [0 if (x <0) else 1 for x in label ]\n",
    "    flags_P = [False if (x <0) else True for x in label ]\n",
    "    flags_N = [True if (x <0) else False for x in label ]\n",
    "    label_Positive_X=x[flags_P]\n",
    "    \n",
    "    label_Positive_Y=y[flags_P]\n",
    "    label_Negative_X=x[flags_N]\n",
    "    label_Negative_Y=y[flags_N]\n",
    "    plt.title(title)\n",
    "    plt.scatter(label_Positive_X,label_Positive_Y,s=50, color=colourP,label ='1')\n",
    "    plt.scatter(label_Negative_X,label_Negative_Y,s=50, color=colourN,label ='0')\n",
    "    plt.legend( loc =\"lower left\")\n",
    "    return outputLabel\n",
    "\n",
    "  "
   ]
  },
  {
   "cell_type": "markdown",
   "metadata": {},
   "source": [
    "Read Traing and Test Data from CSV"
   ]
  },
  {
   "cell_type": "code",
   "execution_count": 14,
   "metadata": {},
   "outputs": [],
   "source": [
    "def ReadData():\n",
    "    train_Data=pd.read_csv(\"classification_train_data.csv\")\n",
    "    test_Data=pd.read_csv(\"classification_test_data.csv\")\n",
    "    #training data\n",
    "    x_train=train_Data['x']\n",
    "    y_train=train_Data['y']\n",
    "    label_train=train_Data['label']\n",
    "    #test data\n",
    "    x_test=test_Data['x']\n",
    "    y_test=test_Data['y']\n",
    "    label_test=test_Data['label']\n",
    "    return train_Data,test_Data,x_train,y_train,label_train,x_test,y_test,label_test"
   ]
  },
  {
   "cell_type": "code",
   "execution_count": 15,
   "metadata": {},
   "outputs": [],
   "source": [
    "'''\n",
    "Use basic formula y=mx+c.\n",
    "Use parameter of w to fetch the slope m.\n",
    "'''\n",
    "def DrawSlope(w,x):\n",
    "    w=np.array(w)\n",
    "    slope = -(w[0][2])/(w[0][1])  \n",
    "    intercept = 0\n",
    "    y = (slope*x) + intercept\n",
    "    plt.plot(x,y,'-y')"
   ]
  },
  {
   "cell_type": "markdown",
   "metadata": {},
   "source": [
    "Following function used to generate Confusion Matrix"
   ]
  },
  {
   "cell_type": "code",
   "execution_count": 16,
   "metadata": {},
   "outputs": [],
   "source": [
    "  \n",
    "def PrintConfusionMatrix(predict,actual):\n",
    "   \n",
    "    data = {'y_Actual':    predict,\n",
    "        'y_Predicted': actual\n",
    "        }\n",
    "\n",
    "    df = pd.DataFrame(data, columns=['y_Actual','y_Predicted'])\n",
    "\n",
    "    confusion_matrix = pd.crosstab(df['y_Actual'], df['y_Predicted'], rownames=['Actual'], colnames=['Predicted'])\n",
    "    print (confusion_matrix)"
   ]
  },
  {
   "cell_type": "code",
   "execution_count": 20,
   "metadata": {},
   "outputs": [
    {
     "name": "stdout",
     "output_type": "stream",
     "text": [
      "Confusion matrix for training data\n",
      "Predicted  0.0  1.0\n",
      "Actual             \n",
      "0           90    0\n",
      "1            0  110\n",
      "Confusion matrix for training data\n",
      "Predicted  0.0  1.0\n",
      "Actual             \n",
      "0           59    0\n",
      "1            0   41\n"
     ]
    },
    {
     "data": {
      "image/png": "[encoded data removed]",
      "text/plain": [
       "<Figure size 432x288 with 1 Axes>"
      ]
     },
     "metadata": {},
     "output_type": "display_data"
    },
    {
     "data": {
      "image/png": "[encoded data removed]",
      "text/plain": [
       "<Figure size 432x288 with 1 Axes>"
      ]
     },
     "metadata": {},
     "output_type": "display_data"
    }
   ],
   "source": [
    "\n",
    "#Read training data\n",
    "train_Data,test_Data,x_train,y_train,label_train,x_test,y_test,label_test=ReadData()\n",
    "\n",
    "MARGIN=1\n",
    "train_df=np.array(train_Data)\n",
    "w_plane=np.matrix([0,0,1])\n",
    "#print(array)\n",
    "maxNumOfIteration=300\n",
    "train_Datasize=train_df.shape[0]\n",
    "ConvergeCount=0\n",
    "\n",
    "#Run the condition till we get a perfact plane \n",
    "while  ConvergeCount!=train_Datasize and maxNumOfIteration>0:\n",
    "   \n",
    "    ConvergeCount=train_Datasize\n",
    "    for xy in train_df:\n",
    "        \n",
    "        data_matrix=np.array([1,xy[0],xy[1]])\n",
    "        temp_Matrix_mul=np.dot(w_plane, data_matrix.T)\n",
    "        \n",
    "        y_label=xy[2] if xy[2]>0 else -1\n",
    "        temp_Matrix_mul=temp_Matrix_mul*(y_label)\n",
    "        \n",
    "        #Verify if we have found mismatch\n",
    "        if temp_Matrix_mul <=MARGIN:\n",
    "            w_plane=np.add(w_plane,y_label*data_matrix)\n",
    "            ConvergeCount=ConvergeCount-1\n",
    "           \n",
    "    maxNumOfIteration=maxNumOfIteration-1\n",
    "\n",
    "\n",
    "#plot training data\n",
    "plt.figure()\n",
    "colourPostivePoint='green'\n",
    "colourNegetivePoint='Blue'\n",
    "title=\"Plot data on Training data\"\n",
    "result=PerformPredictionTestData(w_plane,x_train,y_train,colourPostivePoint,colourNegetivePoint,title)\n",
    "DrawSlope(w_plane,x_train)\n",
    "print('Confusion matrix for training data')\n",
    "PrintConfusionMatrix(result,label_train)\n",
    "\n",
    "#plot Test data\n",
    "plt.figure()\n",
    "colourPostivePoint='black'\n",
    "colourNegetivePoint='red'\n",
    "title=\"Plot data on Test data\"\n",
    "result=PerformPredictionTestData(w_plane,x_test,y_test,colourPostivePoint,colourNegetivePoint,title)\n",
    "DrawSlope(w_plane,x_test)\n",
    "\n",
    "#Highlight prediction results\n",
    "GenerateCSV(x_test,y_test,result,\"Question2_a_\")\n",
    "print('Confusion matrix for training data')\n",
    "PrintConfusionMatrix(result,label_test)\n"
   ]
  },
  {
   "cell_type": "markdown",
   "metadata": {},
   "source": [
    "Question 2. \n",
    "B)Calculate (code it up!) a Discriminant Function for the two classes assuming\n",
    "Normal distribution when the covraiance matrices for both the classes are equal and\n",
    "C1 = C2 = σ2I for some σ"
   ]
  },
  {
   "cell_type": "markdown",
   "metadata": {},
   "source": [
    "If Σi = σ^2I, then the discriminant function gi is given by\n",
    "gi(x) = w^T x+ w0\n",
    "where\n",
    "wi = μi/σ2 , and wi0 = −‖μi‖^2/2σ2 + log πi. "
   ]
  },
  {
   "cell_type": "markdown",
   "metadata": {},
   "source": []
  }
 ],
 "metadata": {
  "kernelspec": {
   "display_name": "Python 3",
   "language": "python",
   "name": "python3"
  },
  "language_info": {
   "codemirror_mode": {
    "name": "ipython",
    "version": 3
   },
   "file_extension": ".py",
   "mimetype": "text/x-python",
   "name": "python",
   "nbconvert_exporter": "python",
   "pygments_lexer": "ipython3",
   "version": "3.6.5"
  }
 },
 "nbformat": 4,
 "nbformat_minor": 2
}
